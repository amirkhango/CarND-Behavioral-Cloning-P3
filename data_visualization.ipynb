{
 "cells": [
  {
   "cell_type": "code",
   "execution_count": 49,
   "metadata": {},
   "outputs": [
    {
     "name": "stderr",
     "output_type": "stream",
     "text": [
      "/Users/kudou/anaconda2/envs/py35/lib/python3.5/site-packages/matplotlib/__init__.py:1405: UserWarning: \n",
      "This call to matplotlib.use() has no effect because the backend has already\n",
      "been chosen; matplotlib.use() must be called *before* pylab, matplotlib.pyplot,\n",
      "or matplotlib.backends is imported for the first time.\n",
      "\n",
      "  warnings.warn(_use_error_msg)\n"
     ]
    }
   ],
   "source": [
    "import csv\n",
    "import cv2\n",
    "from PIL import Image\n",
    "import numpy as np\n",
    "import os\n",
    "from keras.callbacks import EarlyStopping, ModelCheckpoint\n",
    "from models import *\n",
    "import matplotlib\n",
    "matplotlib.use('agg')\n",
    "import matplotlib.pyplot as plt\n",
    "import pickle\n",
    "from keras.models import load_model\n",
    "import sklearn\n",
    "\n",
    "\n",
    "np.random.seed(33)  # for reproducibility\n",
    "path_model='./MODEL'\n",
    "path_log = './log'\n",
    "nb_epoch=2\n",
    "batch_size=32\n",
    "steer_threshold = 0.25\n",
    "p_drop_low = 0.9 # probability of dropping the sample whose steer is lower than steer_threshold\n",
    "hyperparams_name = 'myCNN'\n",
    "save_file = os.path.join(path_log, '{}.loss.png'.format(hyperparams_name))\n",
    "\n",
    "load_pre_model = True \n",
    "CAMERA = True\n",
    "FLIP = False # If you open this swich, pls remember set steps_one_epoch by factor correctly, OR set factor=0\n",
    "factor = (1/2 +1)\n",
    "resized_shape = 64 #resized to 64x64"
   ]
  },
  {
   "cell_type": "code",
   "execution_count": 145,
   "metadata": {
    "collapsed": true
   },
   "outputs": [],
   "source": [
    "def load_samples():\n",
    "\tsamples=[]\n",
    "\twith open('./data/driving_log.csv') as csvfile:\n",
    "\t\treader = csv.reader(csvfile)\n",
    "\t\tfor line in reader:\n",
    " \t\t\tsamples.append(line)\n",
    "\treturn np.array(sklearn.utils.shuffle(samples))\n",
    "\n",
    "def gen_data(samples, batch_size):\n",
    "\n",
    "\tdef get_pic_and_label(source_path):\n",
    "\n",
    "\t\tfilename = source_path.split('/')[-1]\n",
    "\n",
    "\t\tcurrent_path='./data/IMG/'+ filename\n",
    "\n",
    "\t\timg_pil = Image.open(current_path)\n",
    "\t\tw, h = img_pil.size\n",
    "\t\timg_cropped = img_pil.crop((0,50,w,h-25))\n",
    "\t\timg_resized = img_cropped.resize((resized_shape,resized_shape), Image.ANTIALIAS) # resized default to 64x64\n",
    "\n",
    "\t\timage = np.asarray(img_resized)\n",
    "\t\treturn image\n",
    "\t\t\n",
    "\t#offset = 0 \n",
    "\t#print('number of samples is:', len(lines))\t\n",
    "\t#samples = samples[ 0 : samples.shape[0] // batch_size * batch_size]\n",
    "\tnum_samples = samples.shape[0]\n",
    "\n",
    "\t#train_samples = samples[ :-int(len_samples*0.1) ]\n",
    "\t#valid_samples = samples[ -int(len_samples*0.1): ]\n",
    "\n",
    "\twhile True:\n",
    "\t\t\t\t\n",
    "\t\t#for offset in range(0, num_samples, batch_size):\n",
    "\t\t\t\n",
    "\t\t\tbatch_X = np.zeros((batch_size, resized_shape, resized_shape, 3))\n",
    "\t\t\tbatch_y = np.zeros(batch_size)\n",
    "\t\t\t#batch_lines = samples[ offset : offset + batch_size]\n",
    "                                \n",
    "\t\t\tfor idx in range(batch_size):\n",
    "\t\t\t\twhile True:\n",
    "\t\t\t\t\tsample = samples[np.random.randint(num_samples)]\n",
    "\t\t\t\t\tif np.abs(float(sample[3])) < 0.1 and np.random.random() < 0.9:\n",
    "\t\t\t\t\t\tcontinue\n",
    "\t\t\t\t\telif np.abs(float(sample[3])) < 0.45 and np.random.random() < 0.7:\n",
    "\t\t\t\t\t\tcontinue\n",
    "\t\t\t\t\telse:\n",
    "\t\t\t\t\t\tbreak      \n",
    "\t\t\t\t# Data Augmentation by right or left camera       \n",
    "\t\t\t\tcamera = np.random.choice(['center','left', 'right'])\n",
    "\n",
    "\t\t\t\t#if camera == 'left':\n",
    "\t\t\t\t\t#camera_path=sample[1]\n",
    "\t\t\t\t\t#bias=0.22\n",
    "\t\t\t\t\t#camera_path=sample[0]\n",
    "\t\t\t\t\t#bias=0\n",
    "\t\t\t\t#elif camera=='right':\n",
    "\t\t\t\t\t#camera_path=sample[2]\n",
    "\t\t\t\t\t#bias=-0.22\n",
    "\t\t\t\t\t#camera_path=sample[0]\n",
    "\t\t\t\t\t#bias=0\n",
    "\t\t\t\t#elif camera == 'center':\n",
    "\t\t\t\t\t#camera_path=sample[0]\n",
    "\t\t\t\t\t#bias=0\n",
    "\t\t\t\tcamera_path=sample[0]\n",
    "\t\t\t\tbias=0\n",
    "\t\t\t\timage  = get_pic_and_label(camera_path)\n",
    "                \n",
    "\t\t\t\tmeasurement = float(sample[3]) + bias\n",
    "\t\t\t\t# Data Augmentation by Flip\n",
    "\t\t\t\tif FLIP == False:\n",
    "\t\t\t\t\tflip_prob = np.random.random()\n",
    "\t\t\t\t\tif flip_prob > 0.5:\n",
    "\t\t\t\t\t\timage = np.fliplr(image)\n",
    "\t\t\t\t\t\tmeasurement = -measurement\n",
    "\t\t\t\t\t\t#pass\n",
    "\n",
    "\t\t\t\tbatch_X[idx] = image\n",
    "\t\t\t\tbatch_y[idx] = measurement\n",
    "\n",
    "\t\t\tyield (batch_X, batch_y)"
   ]
  },
  {
   "cell_type": "code",
   "execution_count": 141,
   "metadata": {},
   "outputs": [
    {
     "name": "stdout",
     "output_type": "stream",
     "text": [
      "loading data...\n",
      "(8036, 7)\n"
     ]
    }
   ],
   "source": [
    "print(\"loading data...\")\n",
    "samples = load_samples()\n",
    "len_samples = samples.shape[0]\n",
    "print(samples.shape)"
   ]
  },
  {
   "cell_type": "code",
   "execution_count": 142,
   "metadata": {},
   "outputs": [
    {
     "name": "stdout",
     "output_type": "stream",
     "text": [
      "The number of all original (without augmented data) samples is: 8036 \n",
      ",    the number of original train_samples is : 7233 \n",
      "     the number of original valid_samples is : 803 \n",
      "\n",
      "train_samples len is 7233\n",
      "steps of on epoch is: 226.03125\n"
     ]
    }
   ],
   "source": [
    "train_samples = samples[ :-int(len_samples*0.1) ]\n",
    "valid_samples = samples[ -int(len_samples*0.1): ]\n",
    "print('The number of all original (without augmented data) samples is: {} \\n,\\\n",
    "    the number of original train_samples is : {} \\n \\\n",
    "    the number of original valid_samples is : {} \\n'\n",
    "    .format(len_samples, train_samples.shape[0],valid_samples.shape[0]))\n",
    "\n",
    "train_generator = gen_data(samples, batch_size)\n",
    "valid_generator = gen_data(valid_samples, batch_size)\n",
    "\n",
    "print('train_samples len is', train_samples.shape[0])\n",
    "print('steps of on epoch is:', train_samples.shape[0]/batch_size)"
   ]
  },
  {
   "cell_type": "code",
   "execution_count": 143,
   "metadata": {},
   "outputs": [
    {
     "data": {
      "application/vnd.jupyter.widget-view+json": {
       "model_id": "45cb4e75799a4aae97bd42d8581a9892",
       "version_major": 2,
       "version_minor": 0
      },
      "text/html": [
       "<p>Failed to display Jupyter Widget of type <code>HBox</code>.</p>\n",
       "<p>\n",
       "  If you're reading this message in the Jupyter Notebook or JupyterLab Notebook, it may mean\n",
       "  that the widgets JavaScript is still loading. If this message persists, it\n",
       "  likely means that the widgets JavaScript library is either not installed or\n",
       "  not enabled. See the <a href=\"https://ipywidgets.readthedocs.io/en/stable/user_install.html\">Jupyter\n",
       "  Widgets Documentation</a> for setup instructions.\n",
       "</p>\n",
       "<p>\n",
       "  If you're reading this message in another frontend (for example, a static\n",
       "  rendering on GitHub or <a href=\"https://nbviewer.jupyter.org/\">NBViewer</a>),\n",
       "  it may mean that your frontend doesn't currently support widgets.\n",
       "</p>\n"
      ],
      "text/plain": [
       "HBox(children=(IntProgress(value=0, max=300), HTML(value='')))"
      ]
     },
     "metadata": {},
     "output_type": "display_data"
    },
    {
     "name": "stdout",
     "output_type": "stream",
     "text": [
      "\n"
     ]
    }
   ],
   "source": [
    "from tqdm import tqdm_notebook, tqdm\n",
    "\n",
    "iters = 300\n",
    "steer_data=[]\n",
    "ii=0\n",
    "\n",
    "with tqdm_notebook(total=iters) as pbar:  \n",
    "    for x,y in train_generator:\n",
    "        steer_data.extend(list(y))\n",
    "        ii += 1\n",
    "        pbar.update(1)\n",
    "        if ii == iters:\n",
    "            break "
   ]
  },
  {
   "cell_type": "code",
   "execution_count": 144,
   "metadata": {
    "scrolled": true
   },
   "outputs": [
    {
     "data": {
      "image/png": "[encoded data removed]",
      "text/plain": [
       "<matplotlib.figure.Figure at 0x11bc7ba90>"
      ]
     },
     "metadata": {},
     "output_type": "display_data"
    }
   ],
   "source": [
    "#from utils.visualizaiton import *\n",
    "def plot_distribution(data_label):\n",
    "\tplt.figure()\n",
    "\tplt.hist(data_label, bins=30)\n",
    "\tplt.title('data distribution')\n",
    "\tplt.ylabel('numbers_')\n",
    "\tplt.xlabel('steer')\n",
    "\t#plt.xticks(np.arange(0, 0.1, 0.01))\n",
    "    \n",
    "%matplotlib inline\n",
    "plot_distribution(steer_data[:])"
   ]
  },
  {
   "cell_type": "code",
   "execution_count": null,
   "metadata": {
    "collapsed": true
   },
   "outputs": [],
   "source": []
  }
 ],
 "metadata": {
  "kernelspec": {
   "display_name": "Python 3",
   "language": "python",
   "name": "python3"
  },
  "language_info": {
   "codemirror_mode": {
    "name": "ipython",
    "version": 3
   },
   "file_extension": ".py",
   "mimetype": "text/x-python",
   "name": "python",
   "nbconvert_exporter": "python",
   "pygments_lexer": "ipython3",
   "version": "3.5.4"
  }
 },
 "nbformat": 4,
 "nbformat_minor": 2
}
